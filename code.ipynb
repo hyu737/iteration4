{
 "cells": [
  {
   "cell_type": "code",
   "execution_count": 1,
   "id": "c679ee9e",
   "metadata": {},
   "outputs": [
    {
     "name": "stderr",
     "output_type": "stream",
     "text": [
      "WARNING: An illegal reflective access operation has occurred\n",
      "WARNING: Illegal reflective access by org.apache.spark.unsafe.Platform (file:/home/ubuntu/spark-3.2.1-bin-hadoop2.7/jars/spark-unsafe_2.12-3.2.1.jar) to constructor java.nio.DirectByteBuffer(long,int)\n",
      "WARNING: Please consider reporting this to the maintainers of org.apache.spark.unsafe.Platform\n",
      "WARNING: Use --illegal-access=warn to enable warnings of further illegal reflective access operations\n",
      "WARNING: All illegal access operations will be denied in a future release\n",
      "Using Spark's default log4j profile: org/apache/spark/log4j-defaults.properties\n",
      "Setting default log level to \"WARN\".\n",
      "To adjust logging level use sc.setLogLevel(newLevel). For SparkR, use setLogLevel(newLevel).\n",
      "23/10/18 00:54:09 WARN NativeCodeLoader: Unable to load native-hadoop library for your platform... using builtin-java classes where applicable\n"
     ]
    }
   ],
   "source": [
    "import findspark\n",
    "findspark.init('/home/ubuntu/spark-3.2.1-bin-hadoop2.7')\n",
    "import pyspark\n",
    "from pyspark.sql import SparkSession\n",
    "spark = SparkSession.builder.appName('code').getOrCreate()"
   ]
  },
  {
   "cell_type": "code",
   "execution_count": 2,
   "id": "5edc8a81",
   "metadata": {},
   "outputs": [
    {
     "name": "stdout",
     "output_type": "stream",
     "text": [
      "root\n",
      " |-- Name: string (nullable = true)\n",
      " |-- Age: integer (nullable = true)\n",
      " |-- Gender: string (nullable = true)\n",
      " |-- ProjectsCompleted: integer (nullable = true)\n",
      " |-- Productivity(%): integer (nullable = true)\n",
      " |-- SatisfactionRate(%): integer (nullable = true)\n",
      " |-- FeedbackScore: double (nullable = true)\n",
      " |-- Department: string (nullable = true)\n",
      " |-- Position: string (nullable = true)\n",
      " |-- JoiningDate: string (nullable = true)\n",
      " |-- Salary: integer (nullable = true)\n",
      "\n"
     ]
    }
   ],
   "source": [
    "df = spark.read.csv('hr_org_all.csv', inferSchema=True, header=True)\n",
    "df.printSchema()"
   ]
  },
  {
   "cell_type": "code",
   "execution_count": 3,
   "id": "9c9e1cbe",
   "metadata": {},
   "outputs": [
    {
     "name": "stdout",
     "output_type": "stream",
     "text": [
      "+------------------+---+------+-----------------+---------------+-------------------+-------------+----------+----------------+-----------+------+\n",
      "|              Name|Age|Gender|ProjectsCompleted|Productivity(%)|SatisfactionRate(%)|FeedbackScore|Department|        Position|JoiningDate|Salary|\n",
      "+------------------+---+------+-----------------+---------------+-------------------+-------------+----------+----------------+-----------+------+\n",
      "|   Douglas Lindsey| 25|  Male|               11|             57|                 25|          4.7| Marketing|         Analyst|     Jan-20| 63596|\n",
      "|  Anthony Roberson| 59|Female|               19|             55|                 76|          2.8|        IT|         Manager|     Jan-99|112540|\n",
      "|     Thomas Miller| 30|  Male|                8|             87|                 10|          2.4|        IT|         Analyst|     Jan-17| 66292|\n",
      "|      Joshua Lewis| 26|Female|                1|             53|                  4|          1.4| Marketing|          Intern|     Jan-22| 38303|\n",
      "|  Stephanie Bailey| 43|  Male|               14|              3|                  9|          4.5|        IT|       Team Lead|     Jan-05|101133|\n",
      "|     Jonathan King| 24|  Male|                5|             63|                 33|          4.2|     Sales|Junior Developer|     Jan-21| 48740|\n",
      "|     Kyle Figueroa| 33|Female|               13|             41|                 39|          2.3|     Sales|         Analyst|     Jan-18| 73502|\n",
      "|     Shannon Allen| 23|Female|                4|             92|                 68|          2.8|        HR|          Intern|     Jan-21| 39670|\n",
      "|       Daryl Noble| 30|Female|                7|             32|                 43|          2.3| Marketing|Junior Developer|     Jan-19| 49323|\n",
      "|    Tracy Figueroa| 39|Female|               17|             10|                 15|          1.1|        HR|       Team Lead|     Jan-04| 92915|\n",
      "|      Eric Sanders| 36|  Male|               11|             45|                 67|          1.2|   Finance|Senior Developer|     Jan-13| 80721|\n",
      "|     Joshua Nelson| 42|Female|               19|              9|                 31|          2.5|     Sales|       Team Lead|     Jan-07| 95072|\n",
      "|      Donald Davis| 25|Female|                2|             15|                 97|          1.8|        HR|          Intern|     Jan-21| 35169|\n",
      "|  Ms. Emily Dawson| 32|Female|               14|             45|                 20|          3.1| Marketing|         Analyst|     Jan-18| 70271|\n",
      "|      Angela Davis| 29|  Male|               18|             88|                  8|          1.8|     Sales|Senior Developer|     Jan-18| 89571|\n",
      "|    Melissa Galvan| 40|  Male|               17|              3|                 53|          1.8|     Sales|         Manager|     Jan-13|118466|\n",
      "|        Erin Smith| 46|  Male|               15|             44|                 37|          3.7| Marketing|       Team Lead|     Jan-13|105893|\n",
      "|   James Hernandez| 41|Female|               13|             44|                 36|          3.9| Marketing|       Team Lead|     Jan-11| 92074|\n",
      "|      Amanda White| 36|  Male|               12|             22|                 66|          2.2|        IT|       Team Lead|     Jan-05|107279|\n",
      "|Michael Morton DDS| 23|  Male|                2|              1|                 17|          4.4|     Sales|          Intern|     Jan-21| 37855|\n",
      "+------------------+---+------+-----------------+---------------+-------------------+-------------+----------+----------------+-----------+------+\n",
      "only showing top 20 rows\n",
      "\n"
     ]
    }
   ],
   "source": [
    "df.show()"
   ]
  },
  {
   "cell_type": "code",
   "execution_count": 4,
   "id": "7c6d6e80",
   "metadata": {},
   "outputs": [
    {
     "data": {
      "text/plain": [
       "['Name',\n",
       " 'Age',\n",
       " 'Gender',\n",
       " 'ProjectsCompleted',\n",
       " 'Productivity(%)',\n",
       " 'SatisfactionRate(%)',\n",
       " 'FeedbackScore',\n",
       " 'Department',\n",
       " 'Position',\n",
       " 'JoiningDate',\n",
       " 'Salary']"
      ]
     },
     "execution_count": 4,
     "metadata": {},
     "output_type": "execute_result"
    }
   ],
   "source": [
    "df.columns"
   ]
  },
  {
   "cell_type": "code",
   "execution_count": 5,
   "id": "72b930af",
   "metadata": {},
   "outputs": [
    {
     "name": "stderr",
     "output_type": "stream",
     "text": [
      "\r",
      "[Stage 3:>                                                          (0 + 1) / 1]\r"
     ]
    },
    {
     "name": "stdout",
     "output_type": "stream",
     "text": [
      "+-------+-------------+----------------+------+-----------------+------------------+-------------------+-----------------+----------+---------+-----------+------------------+\n",
      "|summary|         Name|             Age|Gender|ProjectsCompleted|   Productivity(%)|SatisfactionRate(%)|    FeedbackScore|Department| Position|JoiningDate|            Salary|\n",
      "+-------+-------------+----------------+------+-----------------+------------------+-------------------+-----------------+----------+---------+-----------+------------------+\n",
      "|  count|          200|             200|   200|              200|               200|                200|              200|       200|      200|        200|               200|\n",
      "|   mean|         null|           34.65|  null|           11.455|            46.755|             49.935|2.883000000000001|      null|     null|       null|         76619.245|\n",
      "| stddev|         null|9.79731785673659|  null|6.408848703826821|28.530068331410902|  28.93435257257314|1.123262924693035|      null|     null|       null|27082.299201789567|\n",
      "|    min|Adrian Walker|              22|Female|                0|                 0|                  0|              1.0|   Finance|  Analyst|     Jan-00|             30231|\n",
      "|    max|Yvette Hughes|              60|  Male|               25|                98|                100|              4.9|     Sales|Team Lead|     Jan-99|            119895|\n",
      "+-------+-------------+----------------+------+-----------------+------------------+-------------------+-----------------+----------+---------+-----------+------------------+\n",
      "\n"
     ]
    },
    {
     "name": "stderr",
     "output_type": "stream",
     "text": [
      "\r",
      "                                                                                \r"
     ]
    }
   ],
   "source": [
    "df.describe().show()"
   ]
  },
  {
   "cell_type": "code",
   "execution_count": 6,
   "id": "77ba5a25",
   "metadata": {},
   "outputs": [
    {
     "name": "stdout",
     "output_type": "stream",
     "text": [
      "root\n",
      " |-- Name: string (nullable = true)\n",
      " |-- Age: integer (nullable = true)\n",
      " |-- Gender: string (nullable = true)\n",
      " |-- ProjectsCompleted: integer (nullable = true)\n",
      " |-- Productivity(%): integer (nullable = true)\n",
      " |-- SatisfactionRate(%): integer (nullable = true)\n",
      " |-- FeedbackScore: double (nullable = true)\n",
      " |-- Department: string (nullable = true)\n",
      " |-- Position: string (nullable = true)\n",
      " |-- JoiningDate: string (nullable = true)\n",
      "\n"
     ]
    }
   ],
   "source": [
    "df = spark.read.csv('hr_org.csv', inferSchema=True, header=True)\n",
    "df.printSchema()"
   ]
  },
  {
   "cell_type": "code",
   "execution_count": 7,
   "id": "7061c1dc",
   "metadata": {},
   "outputs": [
    {
     "name": "stdout",
     "output_type": "stream",
     "text": [
      "+------------------+---+------+-----------------+---------------+-------------------+-------------+----------+----------------+-----------+\n",
      "|              Name|Age|Gender|ProjectsCompleted|Productivity(%)|SatisfactionRate(%)|FeedbackScore|Department|        Position|JoiningDate|\n",
      "+------------------+---+------+-----------------+---------------+-------------------+-------------+----------+----------------+-----------+\n",
      "|   Douglas Lindsey| 25|  Male|               11|             57|                 25|          4.7| Marketing|         Analyst|     20-Jan|\n",
      "|  Anthony Roberson| 59|Female|               79|             55|                 76|          2.8|        IT|         Manager|     Jan-99|\n",
      "|     Thomas Miller| 30|  Male|                8|             87|                 10|          2.4|        IT|         Analyst|     17-Jan|\n",
      "|      Joshua Lewis| 26|Female|                1|             53|                  4|          1.4| Marketing|          Intern|     22-Jan|\n",
      "|  Stephanie Bailey| 43|  Male|               14|              3|                  9|          4.5|        IT|       Team Lead|      5-Jan|\n",
      "|     Jonathan King| 24|  Male|                5|             63|                 33|          4.2|     Sales|Junior Developer|     21-Jan|\n",
      "|     Kyle Figueroa| 33|Female|               13|             41|                 39|          2.3|     Sales|         Analyst|     18-Jan|\n",
      "|     Shannon Allen| 23|Female|                4|             92|                 68|          2.8|        HR|          Intern|     21-Jan|\n",
      "|       Daryl Noble| 30|Female|                7|             32|                 43|          2.3| Marketing|Junior Developer|     19-Jan|\n",
      "|    Tracy Figueroa| 39|Female|               17|             10|                 15|          1.1|        HR|       Team Lead|      4-Jan|\n",
      "|      Eric Sanders| 36|  Male|               11|             45|                 67|          1.2|   Finance|Senior Developer|     13-Jan|\n",
      "|     Joshua Nelson| 42|Female|               19|              9|                 31|          2.5|     Sales|       Team Lead|      7-Jan|\n",
      "|      Donald Davis| 25|Female|              200|             15|                 97|          1.8|        HR|          Intern|     21-Jan|\n",
      "|  Ms. Emily Dawson| 32|Female|               14|             45|                 20|          3.1| Marketing|         Analyst|     18-Jan|\n",
      "|      Angela Davis| 29|  Male|               18|             88|                  8|          1.8|     Sales|Senior Developer|     18-Jan|\n",
      "|    Melissa Galvan| 40|  Male|               17|              3|                 53|          1.8|     Sales|         Manager|     13-Jan|\n",
      "|        Erin Smith| 46|  Male|               15|             44|                 37|          3.7| Marketing|       Team Lead|     13-Jan|\n",
      "|   James Hernandez| 41|Female|               13|             44|                 36|          3.9| Marketing|       Team Lead|     11-Jan|\n",
      "|      Amanda White| 36|  Male|               12|             22|                 66|          2.2|        IT|       Team Lead|      5-Jan|\n",
      "|Michael Morton DDS| 23|  Male|                2|              1|                 17|          4.4|     Sales|          Intern|     21-Jan|\n",
      "+------------------+---+------+-----------------+---------------+-------------------+-------------+----------+----------------+-----------+\n",
      "only showing top 20 rows\n",
      "\n"
     ]
    }
   ],
   "source": [
    "df.show()"
   ]
  },
  {
   "cell_type": "code",
   "execution_count": 8,
   "id": "ed8754ca",
   "metadata": {},
   "outputs": [
    {
     "data": {
      "text/plain": [
       "[Row(Name='Douglas Lindsey', Age=25, Gender='Male', ProjectsCompleted=11, Productivity(%)=57, SatisfactionRate(%)=25, FeedbackScore=4.7, Department='Marketing', Position='Analyst', JoiningDate='20-Jan')]"
      ]
     },
     "execution_count": 8,
     "metadata": {},
     "output_type": "execute_result"
    }
   ],
   "source": [
    "df.head(1)"
   ]
  },
  {
   "cell_type": "code",
   "execution_count": 9,
   "id": "f8d9b540",
   "metadata": {},
   "outputs": [
    {
     "data": {
      "text/plain": [
       "['Name',\n",
       " 'Age',\n",
       " 'Gender',\n",
       " 'ProjectsCompleted',\n",
       " 'Productivity(%)',\n",
       " 'SatisfactionRate(%)',\n",
       " 'FeedbackScore',\n",
       " 'Department',\n",
       " 'Position',\n",
       " 'JoiningDate']"
      ]
     },
     "execution_count": 9,
     "metadata": {},
     "output_type": "execute_result"
    }
   ],
   "source": [
    "df.columns"
   ]
  },
  {
   "cell_type": "code",
   "execution_count": 10,
   "id": "7d9e9926",
   "metadata": {},
   "outputs": [
    {
     "name": "stdout",
     "output_type": "stream",
     "text": [
      "+-------+------+\n",
      "|summary|Gender|\n",
      "+-------+------+\n",
      "|  count|   200|\n",
      "|   mean|  null|\n",
      "| stddev|  null|\n",
      "|    min|Female|\n",
      "|    max|  Male|\n",
      "+-------+------+\n",
      "\n"
     ]
    }
   ],
   "source": [
    "df.describe('Gender').show()"
   ]
  },
  {
   "cell_type": "code",
   "execution_count": 71,
   "id": "b2812668",
   "metadata": {},
   "outputs": [
    {
     "name": "stdout",
     "output_type": "stream",
     "text": [
      "+-------+-----------------+\n",
      "|summary|ProjectsCompleted|\n",
      "+-------+-----------------+\n",
      "|  count|              200|\n",
      "|   mean|           11.455|\n",
      "| stddev|6.408848703826821|\n",
      "|    min|                0|\n",
      "|    max|               25|\n",
      "+-------+-----------------+\n",
      "\n"
     ]
    }
   ],
   "source": [
    "df.describe('ProjectsCompleted').show()"
   ]
  },
  {
   "cell_type": "code",
   "execution_count": 83,
   "id": "7419328a",
   "metadata": {},
   "outputs": [
    {
     "name": "stdout",
     "output_type": "stream",
     "text": [
      "+-------+-------------------+\n",
      "|summary|SatisfactionRate(%)|\n",
      "+-------+-------------------+\n",
      "|  count|                200|\n",
      "|   mean|             49.935|\n",
      "| stddev|  28.93435257257314|\n",
      "|    min|                  0|\n",
      "|    max|                100|\n",
      "+-------+-------------------+\n",
      "\n"
     ]
    }
   ],
   "source": [
    "df.describe('SatisfactionRate(%)').show()"
   ]
  },
  {
   "cell_type": "code",
   "execution_count": 84,
   "id": "c4b6ac71",
   "metadata": {},
   "outputs": [
    {
     "name": "stdout",
     "output_type": "stream",
     "text": [
      "+-------+-------------+----------------+------+------------------+------------------+-------------------+-----------------+----------+---------+-----------+\n",
      "|summary|         Name|             Age|Gender| ProjectsCompleted|   Productivity(%)|SatisfactionRate(%)|    FeedbackScore|Department| Position|JoiningDate|\n",
      "+-------+-------------+----------------+------+------------------+------------------+-------------------+-----------------+----------+---------+-----------+\n",
      "|  count|          200|             200|   200|               200|               200|                200|              198|       200|      200|        200|\n",
      "|   mean|         null|           34.65|  null|            14.095|            46.755|             49.935| 2.89949494949495|      null|     null|       null|\n",
      "| stddev|         null|9.79731785673659|  null|18.827328981640346|28.530068331410902|  28.93435257257314|1.116761883319482|      null|     null|       null|\n",
      "|    min|Adrian Walker|              22|Female|                 0|                 0|                  0|              1.0|   Finance|  Analyst|      1-Jan|\n",
      "|    max|Yvette Hughes|              60|  Male|               200|                98|                100|              4.9|     Sales|Team Lead|     Jan-99|\n",
      "+-------+-------------+----------------+------+------------------+------------------+-------------------+-----------------+----------+---------+-----------+\n",
      "\n"
     ]
    }
   ],
   "source": [
    "df.describe().show()"
   ]
  },
  {
   "cell_type": "code",
   "execution_count": 85,
   "id": "41494f68",
   "metadata": {},
   "outputs": [
    {
     "name": "stdout",
     "output_type": "stream",
     "text": [
      "root\n",
      " |-- Name: string (nullable = true)\n",
      " |-- Age: integer (nullable = true)\n",
      " |-- Gender: string (nullable = true)\n",
      " |-- ProjectsCompleted: integer (nullable = true)\n",
      " |-- Productivity(%): integer (nullable = true)\n",
      " |-- SatisfactionRate(%): integer (nullable = true)\n",
      " |-- FeedbackScore: double (nullable = true)\n",
      " |-- Department: string (nullable = true)\n",
      " |-- Position: string (nullable = true)\n",
      " |-- JoiningDate: string (nullable = true)\n",
      "\n"
     ]
    }
   ],
   "source": [
    "df.printSchema()"
   ]
  },
  {
   "cell_type": "code",
   "execution_count": 11,
   "id": "e187dd53",
   "metadata": {},
   "outputs": [],
   "source": [
    "from pyspark.sql.types import (StructField,StringType,IntegerType,StructType, FloatType)"
   ]
  },
  {
   "cell_type": "code",
   "execution_count": 12,
   "id": "013a8cb4",
   "metadata": {},
   "outputs": [],
   "source": [
    "data_schema = [\n",
    "              StructField('Name',IntegerType(),True),\n",
    "              StructField('Age',StringType(),True),\n",
    "              StructField('Gender',StringType(),True),\n",
    "              StructField('Projects Completed',IntegerType(),True),\n",
    "              StructField('Productivity (%)',IntegerType(),True),\n",
    "              StructField('Satisfaction Rate (%)',IntegerType(),True),\n",
    "              StructField('Feedback Score',FloatType(),True),\n",
    "              StructField('Department',StringType(),True),\n",
    "              StructField('Position',StringType(),True),\n",
    "              StructField('Joining Date',StringType(),True)]\n",
    "             \n",
    "final_struct = StructType(fields=data_schema)"
   ]
  },
  {
   "cell_type": "code",
   "execution_count": 13,
   "id": "45372dad",
   "metadata": {},
   "outputs": [
    {
     "name": "stdout",
     "output_type": "stream",
     "text": [
      "root\n",
      " |-- Name: integer (nullable = true)\n",
      " |-- Age: string (nullable = true)\n",
      " |-- Gender: string (nullable = true)\n",
      " |-- Projects Completed: integer (nullable = true)\n",
      " |-- Productivity (%): integer (nullable = true)\n",
      " |-- Satisfaction Rate (%): integer (nullable = true)\n",
      " |-- Feedback Score: float (nullable = true)\n",
      " |-- Department: string (nullable = true)\n",
      " |-- Position: string (nullable = true)\n",
      " |-- Joining Date: string (nullable = true)\n",
      "\n"
     ]
    }
   ],
   "source": [
    "df = spark.read.csv('hr_org.csv', schema=final_struct)\n",
    "\n",
    "df.printSchema()"
   ]
  },
  {
   "cell_type": "code",
   "execution_count": 16,
   "id": "001d1502",
   "metadata": {},
   "outputs": [
    {
     "name": "stdout",
     "output_type": "stream",
     "text": [
      "root\n",
      " |-- Name: string (nullable = true)\n",
      " |-- Age: integer (nullable = true)\n",
      " |-- Gender: string (nullable = true)\n",
      " |-- ProjectsCompleted: integer (nullable = true)\n",
      " |-- Productivity(%): integer (nullable = true)\n",
      " |-- SatisfactionRate(%): integer (nullable = true)\n",
      " |-- FeedbackScore: double (nullable = true)\n",
      " |-- Department: string (nullable = true)\n",
      " |-- Position: string (nullable = true)\n",
      " |-- JoiningDate: string (nullable = true)\n",
      "\n"
     ]
    }
   ],
   "source": [
    "df = spark.read.csv('hr_org.csv', inferSchema=True, header=True)\n",
    "df.printSchema()"
   ]
  },
  {
   "cell_type": "code",
   "execution_count": 26,
   "id": "45900256",
   "metadata": {},
   "outputs": [
    {
     "name": "stdout",
     "output_type": "stream",
     "text": [
      "+------------------+---+------+-----------------+---------------+-------------------+-------------+----------+----------------+-----------+\n",
      "|              Name|Age|Gender|ProjectsCompleted|Productivity(%)|SatisfactionRate(%)|FeedbackScore|Department|        Position|JoiningDate|\n",
      "+------------------+---+------+-----------------+---------------+-------------------+-------------+----------+----------------+-----------+\n",
      "|   Douglas Lindsey| 25|  Male|               11|             57|                 25|          4.7| Marketing|         Analyst|     20-Jan|\n",
      "|  Anthony Roberson| 59|Female|               79|             55|                 76|          2.8|        IT|         Manager|     Jan-99|\n",
      "|     Thomas Miller| 30|  Male|                8|             87|                 10|          2.4|        IT|         Analyst|     17-Jan|\n",
      "|      Joshua Lewis| 26|Female|                1|             53|                  4|          1.4| Marketing|          Intern|     22-Jan|\n",
      "|  Stephanie Bailey| 43|  Male|               14|              3|                  9|          4.5|        IT|       Team Lead|      5-Jan|\n",
      "|     Jonathan King| 24|  Male|                5|             63|                 33|          4.2|     Sales|Junior Developer|     21-Jan|\n",
      "|     Kyle Figueroa| 33|Female|               13|             41|                 39|          2.3|     Sales|         Analyst|     18-Jan|\n",
      "|     Shannon Allen| 23|Female|                4|             92|                 68|          2.8|        HR|          Intern|     21-Jan|\n",
      "|       Daryl Noble| 30|Female|                7|             32|                 43|          2.3| Marketing|Junior Developer|     19-Jan|\n",
      "|    Tracy Figueroa| 39|Female|               17|             10|                 15|          1.1|        HR|       Team Lead|      4-Jan|\n",
      "|      Eric Sanders| 36|  Male|               11|             45|                 67|          1.2|   Finance|Senior Developer|     13-Jan|\n",
      "|     Joshua Nelson| 42|Female|               19|              9|                 31|          2.5|     Sales|       Team Lead|      7-Jan|\n",
      "|      Donald Davis| 25|Female|              200|             15|                 97|          1.8|        HR|          Intern|     21-Jan|\n",
      "|  Ms. Emily Dawson| 32|Female|               14|             45|                 20|          3.1| Marketing|         Analyst|     18-Jan|\n",
      "|      Angela Davis| 29|  Male|               18|             88|                  8|          1.8|     Sales|Senior Developer|     18-Jan|\n",
      "|    Melissa Galvan| 40|  Male|               17|              3|                 53|          1.8|     Sales|         Manager|     13-Jan|\n",
      "|        Erin Smith| 46|  Male|               15|             44|                 37|          3.7| Marketing|       Team Lead|     13-Jan|\n",
      "|   James Hernandez| 41|Female|               13|             44|                 36|          3.9| Marketing|       Team Lead|     11-Jan|\n",
      "|      Amanda White| 36|  Male|               12|             22|                 66|          2.2|        IT|       Team Lead|      5-Jan|\n",
      "|Michael Morton DDS| 23|  Male|                2|              1|                 17|          4.4|     Sales|          Intern|     21-Jan|\n",
      "+------------------+---+------+-----------------+---------------+-------------------+-------------+----------+----------------+-----------+\n",
      "only showing top 20 rows\n",
      "\n"
     ]
    }
   ],
   "source": [
    "df.show()"
   ]
  },
  {
   "cell_type": "code",
   "execution_count": 27,
   "id": "589b4256",
   "metadata": {},
   "outputs": [
    {
     "name": "stdout",
     "output_type": "stream",
     "text": [
      "+-----------------+\n",
      "|ProjectsCompleted|\n",
      "+-----------------+\n",
      "|               11|\n",
      "|               79|\n",
      "|                8|\n",
      "|                1|\n",
      "|               14|\n",
      "|                5|\n",
      "|               13|\n",
      "|                4|\n",
      "|                7|\n",
      "|               17|\n",
      "|               11|\n",
      "|               19|\n",
      "|              200|\n",
      "|               14|\n",
      "|               18|\n",
      "|               17|\n",
      "|               15|\n",
      "|               13|\n",
      "|               12|\n",
      "|                2|\n",
      "+-----------------+\n",
      "only showing top 20 rows\n",
      "\n"
     ]
    }
   ],
   "source": [
    "df.select('ProjectsCompleted').show()"
   ]
  },
  {
   "cell_type": "code",
   "execution_count": 29,
   "id": "cc31fcb4",
   "metadata": {},
   "outputs": [
    {
     "name": "stdout",
     "output_type": "stream",
     "text": [
      "+------------------+---+------+-----------------+------------+-------------------+-------------+----------+----------------+-----------+\n",
      "|              Name|Age|Gender|ProjectsCompleted|Productivity|SatisfactionRate(%)|FeedbackScore|Department|        Position|JoiningDate|\n",
      "+------------------+---+------+-----------------+------------+-------------------+-------------+----------+----------------+-----------+\n",
      "|   Douglas Lindsey| 25|  Male|               11|          57|                 25|          4.7| Marketing|         Analyst|     20-Jan|\n",
      "|  Anthony Roberson| 59|Female|               79|          55|                 76|          2.8|        IT|         Manager|     Jan-99|\n",
      "|     Thomas Miller| 30|  Male|                8|          87|                 10|          2.4|        IT|         Analyst|     17-Jan|\n",
      "|      Joshua Lewis| 26|Female|                1|          53|                  4|          1.4| Marketing|          Intern|     22-Jan|\n",
      "|  Stephanie Bailey| 43|  Male|               14|           3|                  9|          4.5|        IT|       Team Lead|      5-Jan|\n",
      "|     Jonathan King| 24|  Male|                5|          63|                 33|          4.2|     Sales|Junior Developer|     21-Jan|\n",
      "|     Kyle Figueroa| 33|Female|               13|          41|                 39|          2.3|     Sales|         Analyst|     18-Jan|\n",
      "|     Shannon Allen| 23|Female|                4|          92|                 68|          2.8|        HR|          Intern|     21-Jan|\n",
      "|       Daryl Noble| 30|Female|                7|          32|                 43|          2.3| Marketing|Junior Developer|     19-Jan|\n",
      "|    Tracy Figueroa| 39|Female|               17|          10|                 15|          1.1|        HR|       Team Lead|      4-Jan|\n",
      "|      Eric Sanders| 36|  Male|               11|          45|                 67|          1.2|   Finance|Senior Developer|     13-Jan|\n",
      "|     Joshua Nelson| 42|Female|               19|           9|                 31|          2.5|     Sales|       Team Lead|      7-Jan|\n",
      "|      Donald Davis| 25|Female|              200|          15|                 97|          1.8|        HR|          Intern|     21-Jan|\n",
      "|  Ms. Emily Dawson| 32|Female|               14|          45|                 20|          3.1| Marketing|         Analyst|     18-Jan|\n",
      "|      Angela Davis| 29|  Male|               18|          88|                  8|          1.8|     Sales|Senior Developer|     18-Jan|\n",
      "|    Melissa Galvan| 40|  Male|               17|           3|                 53|          1.8|     Sales|         Manager|     13-Jan|\n",
      "|        Erin Smith| 46|  Male|               15|          44|                 37|          3.7| Marketing|       Team Lead|     13-Jan|\n",
      "|   James Hernandez| 41|Female|               13|          44|                 36|          3.9| Marketing|       Team Lead|     11-Jan|\n",
      "|      Amanda White| 36|  Male|               12|          22|                 66|          2.2|        IT|       Team Lead|      5-Jan|\n",
      "|Michael Morton DDS| 23|  Male|                2|           1|                 17|          4.4|     Sales|          Intern|     21-Jan|\n",
      "+------------------+---+------+-----------------+------------+-------------------+-------------+----------+----------------+-----------+\n",
      "only showing top 20 rows\n",
      "\n"
     ]
    }
   ],
   "source": [
    "df.withColumnRenamed('Productivity(%)', 'Productivity').show()"
   ]
  },
  {
   "cell_type": "code",
   "execution_count": 30,
   "id": "7e50a5c4",
   "metadata": {},
   "outputs": [],
   "source": [
    "df.createOrReplaceTempView('hr')\n",
    "\n",
    "results = spark.sql(\"SELECT * FROM hr\")"
   ]
  },
  {
   "cell_type": "code",
   "execution_count": 31,
   "id": "99d8890b",
   "metadata": {},
   "outputs": [
    {
     "name": "stdout",
     "output_type": "stream",
     "text": [
      "+---+\n",
      "|Age|\n",
      "+---+\n",
      "| 59|\n",
      "| 58|\n",
      "| 58|\n",
      "| 51|\n",
      "| 57|\n",
      "| 57|\n",
      "| 59|\n",
      "| 51|\n",
      "| 50|\n",
      "| 54|\n",
      "| 50|\n",
      "| 55|\n",
      "| 57|\n",
      "| 51|\n",
      "| 50|\n",
      "| 51|\n",
      "| 54|\n",
      "| 54|\n",
      "| 58|\n",
      "| 60|\n",
      "+---+\n",
      "\n"
     ]
    }
   ],
   "source": [
    "results = spark.sql(\"SELECT Age FROM hr WHERE Age >= 50\")\n",
    "results.show()"
   ]
  },
  {
   "cell_type": "markdown",
   "id": "8281a4ba",
   "metadata": {},
   "source": [
    "# Merge"
   ]
  },
  {
   "cell_type": "code",
   "execution_count": 3,
   "id": "9af26ced",
   "metadata": {},
   "outputs": [],
   "source": [
    "from pyspark.sql import SparkSession\n",
    "\n",
    "spark = SparkSession.builder.appName(\"MergeData\").getOrCreate()"
   ]
  },
  {
   "cell_type": "code",
   "execution_count": 4,
   "id": "22de0725",
   "metadata": {},
   "outputs": [
    {
     "name": "stdout",
     "output_type": "stream",
     "text": [
      "+------------------+---+------+-----------------+---------------+-------------------+-------------+----------+----------------+-----------+\n",
      "|              Name|Age|Gender|ProjectsCompleted|Productivity(%)|SatisfactionRate(%)|FeedbackScore|Department|        Position|JoiningDate|\n",
      "+------------------+---+------+-----------------+---------------+-------------------+-------------+----------+----------------+-----------+\n",
      "|   Douglas Lindsey| 25|  Male|               11|             57|                 25|          4.7| Marketing|         Analyst|     20-Jan|\n",
      "|  Anthony Roberson| 59|Female|               79|             55|                 76|          2.8|        IT|         Manager|     Jan-99|\n",
      "|     Thomas Miller| 30|  Male|                8|             87|                 10|          2.4|        IT|         Analyst|     17-Jan|\n",
      "|      Joshua Lewis| 26|Female|                1|             53|                  4|          1.4| Marketing|          Intern|     22-Jan|\n",
      "|  Stephanie Bailey| 43|  Male|               14|              3|                  9|          4.5|        IT|       Team Lead|      5-Jan|\n",
      "|     Jonathan King| 24|  Male|                5|             63|                 33|          4.2|     Sales|Junior Developer|     21-Jan|\n",
      "|     Kyle Figueroa| 33|Female|               13|             41|                 39|          2.3|     Sales|         Analyst|     18-Jan|\n",
      "|     Shannon Allen| 23|Female|                4|             92|                 68|          2.8|        HR|          Intern|     21-Jan|\n",
      "|       Daryl Noble| 30|Female|                7|             32|                 43|          2.3| Marketing|Junior Developer|     19-Jan|\n",
      "|    Tracy Figueroa| 39|Female|               17|             10|                 15|          1.1|        HR|       Team Lead|      4-Jan|\n",
      "|      Eric Sanders| 36|  Male|               11|             45|                 67|          1.2|   Finance|Senior Developer|     13-Jan|\n",
      "|     Joshua Nelson| 42|Female|               19|              9|                 31|          2.5|     Sales|       Team Lead|      7-Jan|\n",
      "|      Donald Davis| 25|Female|              200|             15|                 97|          1.8|        HR|          Intern|     21-Jan|\n",
      "|  Ms. Emily Dawson| 32|Female|               14|             45|                 20|          3.1| Marketing|         Analyst|     18-Jan|\n",
      "|      Angela Davis| 29|  Male|               18|             88|                  8|          1.8|     Sales|Senior Developer|     18-Jan|\n",
      "|    Melissa Galvan| 40|  Male|               17|              3|                 53|          1.8|     Sales|         Manager|     13-Jan|\n",
      "|        Erin Smith| 46|  Male|               15|             44|                 37|          3.7| Marketing|       Team Lead|     13-Jan|\n",
      "|   James Hernandez| 41|Female|               13|             44|                 36|          3.9| Marketing|       Team Lead|     11-Jan|\n",
      "|      Amanda White| 36|  Male|               12|             22|                 66|          2.2|        IT|       Team Lead|      5-Jan|\n",
      "|Michael Morton DDS| 23|  Male|                2|              1|                 17|          4.4|     Sales|          Intern|     21-Jan|\n",
      "+------------------+---+------+-----------------+---------------+-------------------+-------------+----------+----------------+-----------+\n",
      "only showing top 20 rows\n",
      "\n"
     ]
    }
   ],
   "source": [
    "df2 = spark.read.csv(\"hr_org.csv\", header=True, inferSchema=True)\n",
    "df2.show()"
   ]
  },
  {
   "cell_type": "code",
   "execution_count": 5,
   "id": "9ac2a4ad",
   "metadata": {},
   "outputs": [
    {
     "name": "stdout",
     "output_type": "stream",
     "text": [
      "+------------------+------+\n",
      "|              Name|Salary|\n",
      "+------------------+------+\n",
      "|   Douglas Lindsey| 63596|\n",
      "|  Anthony Roberson|112540|\n",
      "|     Thomas Miller| 66292|\n",
      "|      Joshua Lewis| 38303|\n",
      "|  Stephanie Bailey|101133|\n",
      "|     Jonathan King| 48740|\n",
      "|     Kyle Figueroa| 73502|\n",
      "|     Shannon Allen| 39670|\n",
      "|       Daryl Noble| 49323|\n",
      "|    Tracy Figueroa| 92915|\n",
      "|      Eric Sanders| 80721|\n",
      "|     Joshua Nelson| 95072|\n",
      "|      Donald Davis| 35169|\n",
      "|  Ms. Emily Dawson| 70271|\n",
      "|      Angela Davis| 89571|\n",
      "|    Melissa Galvan|118466|\n",
      "|        Erin Smith|105893|\n",
      "|   James Hernandez| 92074|\n",
      "|      Amanda White|107279|\n",
      "|Michael Morton DDS| 37855|\n",
      "+------------------+------+\n",
      "only showing top 20 rows\n",
      "\n"
     ]
    }
   ],
   "source": [
    "df3 = spark.read.csv(\"hr_1.csv\", header=True, inferSchema=True)\n",
    "df3.show()"
   ]
  },
  {
   "cell_type": "code",
   "execution_count": 6,
   "id": "1278ce16",
   "metadata": {},
   "outputs": [
    {
     "name": "stdout",
     "output_type": "stream",
     "text": [
      "+------------------+---+------+-----------------+---------------+-------------------+-------------+----------+----------------+-----------+------+\n",
      "|              Name|Age|Gender|ProjectsCompleted|Productivity(%)|SatisfactionRate(%)|FeedbackScore|Department|        Position|JoiningDate|Salary|\n",
      "+------------------+---+------+-----------------+---------------+-------------------+-------------+----------+----------------+-----------+------+\n",
      "|   Douglas Lindsey| 25|  Male|               11|             57|                 25|          4.7| Marketing|         Analyst|     20-Jan| 63596|\n",
      "|  Anthony Roberson| 59|Female|               79|             55|                 76|          2.8|        IT|         Manager|     Jan-99|112540|\n",
      "|     Thomas Miller| 30|  Male|                8|             87|                 10|          2.4|        IT|         Analyst|     17-Jan| 66292|\n",
      "|      Joshua Lewis| 26|Female|                1|             53|                  4|          1.4| Marketing|          Intern|     22-Jan| 38303|\n",
      "|  Stephanie Bailey| 43|  Male|               14|              3|                  9|          4.5|        IT|       Team Lead|      5-Jan|101133|\n",
      "|     Jonathan King| 24|  Male|                5|             63|                 33|          4.2|     Sales|Junior Developer|     21-Jan| 48740|\n",
      "|     Kyle Figueroa| 33|Female|               13|             41|                 39|          2.3|     Sales|         Analyst|     18-Jan| 73502|\n",
      "|     Shannon Allen| 23|Female|                4|             92|                 68|          2.8|        HR|          Intern|     21-Jan| 39670|\n",
      "|       Daryl Noble| 30|Female|                7|             32|                 43|          2.3| Marketing|Junior Developer|     19-Jan| 49323|\n",
      "|    Tracy Figueroa| 39|Female|               17|             10|                 15|          1.1|        HR|       Team Lead|      4-Jan| 92915|\n",
      "|      Eric Sanders| 36|  Male|               11|             45|                 67|          1.2|   Finance|Senior Developer|     13-Jan| 80721|\n",
      "|     Joshua Nelson| 42|Female|               19|              9|                 31|          2.5|     Sales|       Team Lead|      7-Jan| 95072|\n",
      "|      Donald Davis| 25|Female|              200|             15|                 97|          1.8|        HR|          Intern|     21-Jan| 35169|\n",
      "|  Ms. Emily Dawson| 32|Female|               14|             45|                 20|          3.1| Marketing|         Analyst|     18-Jan| 70271|\n",
      "|      Angela Davis| 29|  Male|               18|             88|                  8|          1.8|     Sales|Senior Developer|     18-Jan| 89571|\n",
      "|    Melissa Galvan| 40|  Male|               17|              3|                 53|          1.8|     Sales|         Manager|     13-Jan|118466|\n",
      "|        Erin Smith| 46|  Male|               15|             44|                 37|          3.7| Marketing|       Team Lead|     13-Jan|105893|\n",
      "|   James Hernandez| 41|Female|               13|             44|                 36|          3.9| Marketing|       Team Lead|     11-Jan| 92074|\n",
      "|      Amanda White| 36|  Male|               12|             22|                 66|          2.2|        IT|       Team Lead|      5-Jan|107279|\n",
      "|Michael Morton DDS| 23|  Male|                2|              1|                 17|          4.4|     Sales|          Intern|     21-Jan| 37855|\n",
      "+------------------+---+------+-----------------+---------------+-------------------+-------------+----------+----------------+-----------+------+\n",
      "only showing top 20 rows\n",
      "\n"
     ]
    }
   ],
   "source": [
    "merged_df = df2.join(df3, on=\"Name\", how=\"inner\")\n",
    "\n",
    "merged_df.show()"
   ]
  },
  {
   "cell_type": "markdown",
   "id": "b18de212",
   "metadata": {},
   "source": [
    "# Delete columns"
   ]
  },
  {
   "cell_type": "code",
   "execution_count": 20,
   "id": "dc5f5ff3",
   "metadata": {},
   "outputs": [],
   "source": [
    "from pyspark.sql import SparkSession\n",
    "\n",
    "spark = SparkSession.builder.appName(\"ColumnSelection\").getOrCreate()"
   ]
  },
  {
   "cell_type": "code",
   "execution_count": 18,
   "id": "464af8a4",
   "metadata": {},
   "outputs": [],
   "source": [
    "df = spark.read.csv(\"hr_org_all.csv\", header=True, inferSchema=True)\n",
    "\n",
    "selected_columns = [\"Name\", \"Age\", \"Gender\",\n",
    "                   \"ProjectsCompleted\",\"Productivity(%)\",\"SatisfactionRate(%)\",\n",
    "                   \"FeedbackScore\",\"JoiningDate\",\"Salary\"]\n",
    "\n",
    "new_df = df.select(selected_columns)\n",
    "new_df.write.csv(\"output.csv\", header=True, mode=\"overwrite\")\n",
    "spark.stop()"
   ]
  },
  {
   "cell_type": "code",
   "execution_count": 19,
   "id": "d4e6b199",
   "metadata": {},
   "outputs": [
    {
     "name": "stdout",
     "output_type": "stream",
     "text": [
      "root\n",
      " |-- Name: string (nullable = true)\n",
      " |-- Age: integer (nullable = true)\n",
      " |-- Gender: string (nullable = true)\n",
      " |-- ProjectsCompleted: integer (nullable = true)\n",
      " |-- Productivity(%): integer (nullable = true)\n",
      " |-- SatisfactionRate(%): integer (nullable = true)\n",
      " |-- FeedbackScore: double (nullable = true)\n",
      " |-- JoiningDate: string (nullable = true)\n",
      " |-- Salary: integer (nullable = true)\n",
      "\n"
     ]
    }
   ],
   "source": [
    "new_df.printSchema()"
   ]
  },
  {
   "cell_type": "markdown",
   "id": "aa0e3933",
   "metadata": {},
   "source": [
    "# Operations and Aggregation"
   ]
  },
  {
   "cell_type": "code",
   "execution_count": 96,
   "id": "12234383",
   "metadata": {},
   "outputs": [
    {
     "name": "stdout",
     "output_type": "stream",
     "text": [
      "root\n",
      " |-- Name: string (nullable = true)\n",
      " |-- Age: integer (nullable = true)\n",
      " |-- Gender: string (nullable = true)\n",
      " |-- ProjectsCompleted: integer (nullable = true)\n",
      " |-- Productivity(%): integer (nullable = true)\n",
      " |-- SatisfactionRate(%): integer (nullable = true)\n",
      " |-- FeedbackScore: double (nullable = true)\n",
      " |-- Department: string (nullable = true)\n",
      " |-- Position: string (nullable = true)\n",
      " |-- JoiningDate: string (nullable = true)\n",
      "\n",
      "+------------------+---+------+-----------------+---------------+-------------------+-------------+----------+----------------+-----------+\n",
      "|              Name|Age|Gender|ProjectsCompleted|Productivity(%)|SatisfactionRate(%)|FeedbackScore|Department|        Position|JoiningDate|\n",
      "+------------------+---+------+-----------------+---------------+-------------------+-------------+----------+----------------+-----------+\n",
      "|   Douglas Lindsey| 25|  Male|               11|             57|                 25|          4.7| Marketing|         Analyst|     20-Jan|\n",
      "|  Anthony Roberson| 59|Female|               79|             55|                 76|          2.8|        IT|         Manager|     Jan-99|\n",
      "|     Thomas Miller| 30|  Male|                8|             87|                 10|          2.4|        IT|         Analyst|     17-Jan|\n",
      "|      Joshua Lewis| 26|Female|                1|             53|                  4|          1.4| Marketing|          Intern|     22-Jan|\n",
      "|  Stephanie Bailey| 43|  Male|               14|              3|                  9|          4.5|        IT|       Team Lead|      5-Jan|\n",
      "|     Jonathan King| 24|  Male|                5|             63|                 33|          4.2|     Sales|Junior Developer|     21-Jan|\n",
      "|     Kyle Figueroa| 33|Female|               13|             41|                 39|          2.3|     Sales|         Analyst|     18-Jan|\n",
      "|     Shannon Allen| 23|Female|                4|             92|                 68|          2.8|        HR|          Intern|     21-Jan|\n",
      "|       Daryl Noble| 30|Female|                7|             32|                 43|          2.3| Marketing|Junior Developer|     19-Jan|\n",
      "|    Tracy Figueroa| 39|Female|               17|             10|                 15|          1.1|        HR|       Team Lead|      4-Jan|\n",
      "|      Eric Sanders| 36|  Male|               11|             45|                 67|          1.2|   Finance|Senior Developer|     13-Jan|\n",
      "|     Joshua Nelson| 42|Female|               19|              9|                 31|          2.5|     Sales|       Team Lead|      7-Jan|\n",
      "|      Donald Davis| 25|Female|              200|             15|                 97|          1.8|        HR|          Intern|     21-Jan|\n",
      "|  Ms. Emily Dawson| 32|Female|               14|             45|                 20|          3.1| Marketing|         Analyst|     18-Jan|\n",
      "|      Angela Davis| 29|  Male|               18|             88|                  8|          1.8|     Sales|Senior Developer|     18-Jan|\n",
      "|    Melissa Galvan| 40|  Male|               17|              3|                 53|          1.8|     Sales|         Manager|     13-Jan|\n",
      "|        Erin Smith| 46|  Male|               15|             44|                 37|          3.7| Marketing|       Team Lead|     13-Jan|\n",
      "|   James Hernandez| 41|Female|               13|             44|                 36|          3.9| Marketing|       Team Lead|     11-Jan|\n",
      "|      Amanda White| 36|  Male|               12|             22|                 66|          2.2|        IT|       Team Lead|      5-Jan|\n",
      "|Michael Morton DDS| 23|  Male|                2|              1|                 17|          4.4|     Sales|          Intern|     21-Jan|\n",
      "+------------------+---+------+-----------------+---------------+-------------------+-------------+----------+----------------+-----------+\n",
      "only showing top 20 rows\n",
      "\n"
     ]
    }
   ],
   "source": [
    "df = spark.read.csv('hr_org.csv', inferSchema=True, header=True)\n",
    "df.printSchema()\n",
    "df.show()"
   ]
  },
  {
   "cell_type": "code",
   "execution_count": 97,
   "id": "5d625f86",
   "metadata": {},
   "outputs": [
    {
     "data": {
      "text/plain": [
       "[Row(Name='Douglas Lindsey', Age=25, Gender='Male', ProjectsCompleted=11, Productivity(%)=57, SatisfactionRate(%)=25, FeedbackScore=4.7, Department='Marketing', Position='Analyst', JoiningDate='20-Jan')]"
      ]
     },
     "execution_count": 97,
     "metadata": {},
     "output_type": "execute_result"
    }
   ],
   "source": [
    "df.head(1)"
   ]
  },
  {
   "cell_type": "code",
   "execution_count": 98,
   "id": "f01ca8e3",
   "metadata": {},
   "outputs": [
    {
     "name": "stdout",
     "output_type": "stream",
     "text": [
      "+-----------------+-------------------+\n",
      "|ProjectsCompleted|SatisfactionRate(%)|\n",
      "+-----------------+-------------------+\n",
      "|                1|                  4|\n",
      "|                4|                 68|\n",
      "|                2|                 17|\n",
      "|                4|                 66|\n",
      "|                3|                 26|\n",
      "|                3|                 99|\n",
      "|                3|                 35|\n",
      "|                3|                 85|\n",
      "|                2|                 45|\n",
      "|                4|                 56|\n",
      "|                2|                 95|\n",
      "|                0|                 60|\n",
      "|                1|                 14|\n",
      "|                0|                  0|\n",
      "|                3|                 89|\n",
      "|                1|                 42|\n",
      "|                4|                 49|\n",
      "|                3|                 82|\n",
      "|                1|                 16|\n",
      "|                1|                 93|\n",
      "+-----------------+-------------------+\n",
      "only showing top 20 rows\n",
      "\n"
     ]
    }
   ],
   "source": [
    "df.filter(\"ProjectsCompleted < 5 \").select('ProjectsCompleted','SatisfactionRate(%)').show()"
   ]
  },
  {
   "cell_type": "code",
   "execution_count": 99,
   "id": "bd0e4c71",
   "metadata": {},
   "outputs": [
    {
     "name": "stdout",
     "output_type": "stream",
     "text": [
      "+-----------------+-------------------+\n",
      "|ProjectsCompleted|SatisfactionRate(%)|\n",
      "+-----------------+-------------------+\n",
      "|                1|                  4|\n",
      "|                4|                 68|\n",
      "|                2|                 17|\n",
      "|                4|                 66|\n",
      "|                3|                 26|\n",
      "|                3|                 99|\n",
      "|                3|                 35|\n",
      "|                3|                 85|\n",
      "|                2|                 45|\n",
      "|                4|                 56|\n",
      "|                2|                 95|\n",
      "|                0|                 60|\n",
      "|                1|                 14|\n",
      "|                0|                  0|\n",
      "|                3|                 89|\n",
      "|                1|                 42|\n",
      "|                4|                 49|\n",
      "|                3|                 82|\n",
      "|                1|                 16|\n",
      "|                1|                 93|\n",
      "+-----------------+-------------------+\n",
      "only showing top 20 rows\n",
      "\n"
     ]
    }
   ],
   "source": [
    "df.filter(df['ProjectsCompleted'] < 5).select('ProjectsCompleted','SatisfactionRate(%)').show()"
   ]
  },
  {
   "cell_type": "code",
   "execution_count": 100,
   "id": "d5609cf8",
   "metadata": {
    "scrolled": true
   },
   "outputs": [
    {
     "name": "stdout",
     "output_type": "stream",
     "text": [
      "+-----------------+-------------------+\n",
      "|ProjectsCompleted|SatisfactionRate(%)|\n",
      "+-----------------+-------------------+\n",
      "|               11|                 25|\n",
      "|               14|                  9|\n",
      "|               13|                 39|\n",
      "|               17|                 15|\n",
      "|               19|                 31|\n",
      "|               14|                 20|\n",
      "|               18|                  8|\n",
      "|               15|                 37|\n",
      "|               13|                 36|\n",
      "|               13|                 37|\n",
      "|               14|                 47|\n",
      "|               11|                 17|\n",
      "|               15|                 20|\n",
      "|               11|                 15|\n",
      "|               11|                 38|\n",
      "|               13|                 27|\n",
      "|               16|                 38|\n",
      "|               17|                 18|\n",
      "|               16|                  6|\n",
      "|               20|                 45|\n",
      "+-----------------+-------------------+\n",
      "only showing top 20 rows\n",
      "\n"
     ]
    }
   ],
   "source": [
    "df.filter( (df['ProjectsCompleted'] > 10) & (df['SatisfactionRate(%)'] < 50) ).select('ProjectsCompleted','SatisfactionRate(%)').show()"
   ]
  },
  {
   "cell_type": "code",
   "execution_count": 111,
   "id": "804b918e",
   "metadata": {
    "scrolled": true
   },
   "outputs": [
    {
     "name": "stdout",
     "output_type": "stream",
     "text": [
      "+---------------+-------------------+\n",
      "|Productivity(%)|SatisfactionRate(%)|\n",
      "+---------------+-------------------+\n",
      "|              3|                  9|\n",
      "|             41|                 39|\n",
      "|             32|                 43|\n",
      "|             10|                 15|\n",
      "|             45|                 67|\n",
      "|              9|                 31|\n",
      "|             15|                 97|\n",
      "|             45|                 20|\n",
      "|              3|                 53|\n",
      "|             44|                 37|\n",
      "|             44|                 36|\n",
      "|             22|                 66|\n",
      "|              1|                 17|\n",
      "|             29|                 73|\n",
      "|             46|                 66|\n",
      "|              9|                 80|\n",
      "|             18|                 68|\n",
      "|             26|                 13|\n",
      "|              0|                 52|\n",
      "|             26|                 81|\n",
      "+---------------+-------------------+\n",
      "only showing top 20 rows\n",
      "\n"
     ]
    }
   ],
   "source": [
    "df.filter(df['Productivity(%)'] < 50).select('Productivity(%)','SatisfactionRate(%)').show()"
   ]
  },
  {
   "cell_type": "code",
   "execution_count": 112,
   "id": "394b8dc8",
   "metadata": {},
   "outputs": [
    {
     "name": "stdout",
     "output_type": "stream",
     "text": [
      "+-----------------+-------------------+\n",
      "|ProjectsCompleted|SatisfactionRate(%)|\n",
      "+-----------------+-------------------+\n",
      "|               11|                 25|\n",
      "|                8|                 10|\n",
      "|                1|                  4|\n",
      "|                5|                 33|\n",
      "|               18|                  8|\n",
      "|                3|                 26|\n",
      "|               14|                 47|\n",
      "|                5|                 48|\n",
      "|               13|                 27|\n",
      "|               20|                 45|\n",
      "|               23|                  8|\n",
      "|               17|                  0|\n",
      "|                1|                 14|\n",
      "|                0|                  0|\n",
      "|                9|                 34|\n",
      "|               24|                 37|\n",
      "|               24|                 18|\n",
      "|               19|                 24|\n",
      "|                9|                 13|\n",
      "|               17|                 21|\n",
      "+-----------------+-------------------+\n",
      "only showing top 20 rows\n",
      "\n"
     ]
    }
   ],
   "source": [
    "df.filter( (df['Productivity(%)'] > 50) & (df['SatisfactionRate(%)'] < 50) ).select('ProjectsCompleted','SatisfactionRate(%)').show()"
   ]
  },
  {
   "cell_type": "code",
   "execution_count": 101,
   "id": "922d8ff2",
   "metadata": {},
   "outputs": [],
   "source": [
    "employeeResult = df.filter(df['ProjectsCompleted'] == 20).collect()"
   ]
  },
  {
   "cell_type": "code",
   "execution_count": 102,
   "id": "c8c56ade",
   "metadata": {},
   "outputs": [
    {
     "data": {
      "text/plain": [
       "[Row(Name='David Odom', Age=47, Gender='Female', ProjectsCompleted=20, Productivity(%)=41, SatisfactionRate(%)=61, FeedbackScore=3.1, Department='HR', Position='Team Lead', JoiningDate='9-Jan'),\n",
       " Row(Name='Janet Campbell', Age=58, Gender='Female', ProjectsCompleted=20, Productivity(%)=68, SatisfactionRate(%)=63, FeedbackScore=1.4, Department='Finance', Position='Manager', JoiningDate='10-Jan'),\n",
       " Row(Name='John Moore', Age=36, Gender='Male', ProjectsCompleted=20, Productivity(%)=96, SatisfactionRate(%)=45, FeedbackScore=3.9, Department='IT', Position='Team Lead', JoiningDate='5-Jan'),\n",
       " Row(Name='Debbie Torres', Age=59, Gender='Female', ProjectsCompleted=20, Productivity(%)=50, SatisfactionRate(%)=85, FeedbackScore=1.9, Department='Finance', Position='Manager', JoiningDate='14-Jan'),\n",
       " Row(Name='Anthony Barton', Age=54, Gender='Male', ProjectsCompleted=20, Productivity(%)=54, SatisfactionRate(%)=89, FeedbackScore=2.6, Department='Marketing', Position='Manager', JoiningDate='Jan-99')]"
      ]
     },
     "execution_count": 102,
     "metadata": {},
     "output_type": "execute_result"
    }
   ],
   "source": [
    "employeeResult"
   ]
  },
  {
   "cell_type": "code",
   "execution_count": 103,
   "id": "72c8eb8e",
   "metadata": {},
   "outputs": [
    {
     "data": {
      "text/plain": [
       "Row(Name='David Odom', Age=47, Gender='Female', ProjectsCompleted=20, Productivity(%)=41, SatisfactionRate(%)=61, FeedbackScore=3.1, Department='HR', Position='Team Lead', JoiningDate='9-Jan')"
      ]
     },
     "execution_count": 103,
     "metadata": {},
     "output_type": "execute_result"
    }
   ],
   "source": [
    "employeeRow = employeeResult[0]\n",
    "\n",
    "employeeRow"
   ]
  },
  {
   "cell_type": "code",
   "execution_count": 104,
   "id": "17a6772c",
   "metadata": {},
   "outputs": [
    {
     "data": {
      "text/plain": [
       "{'Name': 'David Odom',\n",
       " 'Age': 47,\n",
       " 'Gender': 'Female',\n",
       " 'ProjectsCompleted': 20,\n",
       " 'Productivity(%)': 41,\n",
       " 'SatisfactionRate(%)': 61,\n",
       " 'FeedbackScore': 3.1,\n",
       " 'Department': 'HR',\n",
       " 'Position': 'Team Lead',\n",
       " 'JoiningDate': '9-Jan'}"
      ]
     },
     "execution_count": 104,
     "metadata": {},
     "output_type": "execute_result"
    }
   ],
   "source": [
    "employeeRow.asDict()"
   ]
  },
  {
   "cell_type": "code",
   "execution_count": 105,
   "id": "35ff3e83",
   "metadata": {},
   "outputs": [
    {
     "data": {
      "text/plain": [
       "3.1"
      ]
     },
     "execution_count": 105,
     "metadata": {},
     "output_type": "execute_result"
    }
   ],
   "source": [
    "employeeRow.asDict()['FeedbackScore']"
   ]
  },
  {
   "cell_type": "code",
   "execution_count": 108,
   "id": "f7cb77cc",
   "metadata": {},
   "outputs": [],
   "source": [
    "from pyspark.sql.functions import dayofmonth,month,hour,year,format_number"
   ]
  },
  {
   "cell_type": "code",
   "execution_count": 110,
   "id": "f4ce9b72",
   "metadata": {},
   "outputs": [
    {
     "name": "stdout",
     "output_type": "stream",
     "text": [
      "+----------+------------------------+\n",
      "|Department|avg(SatisfactionRate(%))|\n",
      "+----------+------------------------+\n",
      "|     Sales|       48.61702127659574|\n",
      "|        HR|                  51.625|\n",
      "|   Finance|      50.048780487804876|\n",
      "| Marketing|      46.023809523809526|\n",
      "|        IT|        54.3421052631579|\n",
      "+----------+------------------------+\n",
      "\n"
     ]
    }
   ],
   "source": [
    "df_summary = df.groupBy(\"Department\").mean().select(['Department','avg(SatisfactionRate(%))'])\n",
    "df_summary.show()"
   ]
  },
  {
   "cell_type": "code",
   "execution_count": 17,
   "id": "d379cf1e",
   "metadata": {},
   "outputs": [
    {
     "name": "stdout",
     "output_type": "stream",
     "text": [
      "+----------+------------------------------------------+\n",
      "|Department|format_number(avg(SatisfactionRate(%)), 2)|\n",
      "+----------+------------------------------------------+\n",
      "|     Sales|                                     48.62|\n",
      "|        HR|                                     51.62|\n",
      "|   Finance|                                     50.05|\n",
      "| Marketing|                                     46.02|\n",
      "|        IT|                                     54.34|\n",
      "+----------+------------------------------------------+\n",
      "\n"
     ]
    }
   ],
   "source": [
    "df_formatted = df_summary.select(['Department', format_number(\"avg(SatisfactionRate(%))\",2)])\n",
    "df_formatted.show()"
   ]
  },
  {
   "cell_type": "code",
   "execution_count": 19,
   "id": "960029af",
   "metadata": {},
   "outputs": [
    {
     "name": "stdout",
     "output_type": "stream",
     "text": [
      "+----------+-----------------------+\n",
      "|Department|AverageSatisfactionRate|\n",
      "+----------+-----------------------+\n",
      "|     Sales|                  48.62|\n",
      "|        HR|                  51.62|\n",
      "|   Finance|                  50.05|\n",
      "| Marketing|                  46.02|\n",
      "|        IT|                  54.34|\n",
      "+----------+-----------------------+\n",
      "\n"
     ]
    }
   ],
   "source": [
    "df_renamed = df_formatted.withColumnRenamed(\"format_number(avg(SatisfactionRate(%)), 2)\",\"AverageSatisfactionRate\")\n",
    "df_renamed.show()"
   ]
  },
  {
   "cell_type": "code",
   "execution_count": 21,
   "id": "a79d1eb7",
   "metadata": {},
   "outputs": [
    {
     "name": "stdout",
     "output_type": "stream",
     "text": [
      "+----------+-----------------------+\n",
      "|Department|AverageSatisfactionRate|\n",
      "+----------+-----------------------+\n",
      "| Marketing|                  46.02|\n",
      "|     Sales|                  48.62|\n",
      "|   Finance|                  50.05|\n",
      "|        HR|                  51.62|\n",
      "|        IT|                  54.34|\n",
      "+----------+-----------------------+\n",
      "\n"
     ]
    }
   ],
   "source": [
    "df_renamed.orderBy('AverageSatisfactionRate').show()"
   ]
  },
  {
   "cell_type": "code",
   "execution_count": 41,
   "id": "26ed73de",
   "metadata": {},
   "outputs": [
    {
     "name": "stdout",
     "output_type": "stream",
     "text": [
      "+----------+------------------+----------------------+--------------------+------------------------+------------------+\n",
      "|Department|          avg(Age)|avg(ProjectsCompleted)|avg(Productivity(%))|avg(SatisfactionRate(%))|avg(FeedbackScore)|\n",
      "+----------+------------------+----------------------+--------------------+------------------------+------------------+\n",
      "|     Sales|              37.5|                  20.0|                80.5|                    74.5|               2.8|\n",
      "|   Finance|35.666666666666664|    12.333333333333334|  17.333333333333332|      48.666666666666664|2.6666666666666665|\n",
      "| Marketing|              29.0|                   5.0|                93.0|                    94.0|               4.9|\n",
      "|        IT|              35.0|                   9.0|                57.5|                    34.0|               4.2|\n",
      "+----------+------------------+----------------------+--------------------+------------------------+------------------+\n",
      "\n"
     ]
    }
   ],
   "source": [
    "df.groupBy('Department').mean().show()"
   ]
  },
  {
   "cell_type": "code",
   "execution_count": 50,
   "id": "2ab78cdf",
   "metadata": {},
   "outputs": [
    {
     "name": "stdout",
     "output_type": "stream",
     "text": [
      "+------------------------+\n",
      "|avg(SatisfactionRate(%))|\n",
      "+------------------------+\n",
      "|                  57.125|\n",
      "+------------------------+\n",
      "\n"
     ]
    }
   ],
   "source": [
    "df.agg({\"SatisfactionRate(%)\":\"mean\"}).show()"
   ]
  },
  {
   "cell_type": "code",
   "execution_count": 51,
   "id": "66676a53",
   "metadata": {},
   "outputs": [
    {
     "name": "stdout",
     "output_type": "stream",
     "text": [
      "+--------------------------+\n",
      "|AverageSatisfactionRate(%)|\n",
      "+--------------------------+\n",
      "|                    57.125|\n",
      "+--------------------------+\n",
      "\n"
     ]
    }
   ],
   "source": [
    "from pyspark.sql.functions import countDistinct,avg,stddev,format_number\n",
    "df.select(avg('SatisfactionRate(%)').alias('AverageSatisfactionRate(%)')).show()"
   ]
  },
  {
   "cell_type": "code",
   "execution_count": 52,
   "id": "0bbc1d26",
   "metadata": {},
   "outputs": [
    {
     "name": "stdout",
     "output_type": "stream",
     "text": [
      "+--------------------------------------+\n",
      "|SatisfactionRate(%)_Standard_Deviation|\n",
      "+--------------------------------------+\n",
      "|                                 29.80|\n",
      "+--------------------------------------+\n",
      "\n"
     ]
    }
   ],
   "source": [
    "dev = df.select(stddev(\"SatisfactionRate(%)\"))\n",
    "\n",
    "dev.select(format_number('stddev_samp(SatisfactionRate(%))',2).alias('SatisfactionRate(%)_Standard_Deviation')).show()"
   ]
  },
  {
   "cell_type": "code",
   "execution_count": 53,
   "id": "4a29ac63",
   "metadata": {},
   "outputs": [
    {
     "name": "stdout",
     "output_type": "stream",
     "text": [
      "+---------------+---+------+-----------------+---------------+-------------------+-------------+----------+----------------+-----------+\n",
      "|           Name|Age|Gender|ProjectsCompleted|Productivity(%)|SatisfactionRate(%)|FeedbackScore|Department|        Position|JoiningDate|\n",
      "+---------------+---+------+-----------------+---------------+-------------------+-------------+----------+----------------+-----------+\n",
      "|Kimberly Cooper| 27|Female|                9|             26|                 13|          1.3|   Finance|Junior Developer|     21-Jan|\n",
      "|      Vicki Kim| 44|Female|               11|             29|                 17|         null|        IT|Senior Developer|     14-Jan|\n",
      "|   Amanda Brown| 26|Female|                7|             86|                 51|          4.2|        IT|Junior Developer|     18-Jan|\n",
      "|Heather Mueller| 45|Female|               11|              0|                 52|          2.8|   Finance|Senior Developer|      8-Jan|\n",
      "| Stephen Watson| 33|  Male|               17|             84|                 69|         null|     Sales|Senior Developer|      7-Jan|\n",
      "|    Carlos Bush| 42|Female|               23|             77|                 80|          2.8|     Sales|         Manager|      1-Jan|\n",
      "|  Susan Johnson| 35|  Male|               17|             26|                 81|          3.9|   Finance|         Manager|     11-Jan|\n",
      "| Michelle Perez| 29|  Male|                5|             93|                 94|          4.9| Marketing|Junior Developer|     18-Jan|\n",
      "+---------------+---+------+-----------------+---------------+-------------------+-------------+----------+----------------+-----------+\n",
      "\n",
      "+---------------+---+------+-----------------+---------------+-------------------+-------------+----------+----------------+-----------+\n",
      "|           Name|Age|Gender|ProjectsCompleted|Productivity(%)|SatisfactionRate(%)|FeedbackScore|Department|        Position|JoiningDate|\n",
      "+---------------+---+------+-----------------+---------------+-------------------+-------------+----------+----------------+-----------+\n",
      "| Michelle Perez| 29|  Male|                5|             93|                 94|          4.9| Marketing|Junior Developer|     18-Jan|\n",
      "|  Susan Johnson| 35|  Male|               17|             26|                 81|          3.9|   Finance|         Manager|     11-Jan|\n",
      "|    Carlos Bush| 42|Female|               23|             77|                 80|          2.8|     Sales|         Manager|      1-Jan|\n",
      "| Stephen Watson| 33|  Male|               17|             84|                 69|         null|     Sales|Senior Developer|      7-Jan|\n",
      "|Heather Mueller| 45|Female|               11|              0|                 52|          2.8|   Finance|Senior Developer|      8-Jan|\n",
      "|   Amanda Brown| 26|Female|                7|             86|                 51|          4.2|        IT|Junior Developer|     18-Jan|\n",
      "|      Vicki Kim| 44|Female|               11|             29|                 17|         null|        IT|Senior Developer|     14-Jan|\n",
      "|Kimberly Cooper| 27|Female|                9|             26|                 13|          1.3|   Finance|Junior Developer|     21-Jan|\n",
      "+---------------+---+------+-----------------+---------------+-------------------+-------------+----------+----------------+-----------+\n",
      "\n"
     ]
    }
   ],
   "source": [
    "df.orderBy('SatisfactionRate(%)').show()\n",
    "\n",
    "df.orderBy(df['SatisfactionRate(%)'].desc()).show()"
   ]
  },
  {
   "cell_type": "markdown",
   "id": "4f9849b9",
   "metadata": {},
   "source": [
    "# Cleaning Data"
   ]
  },
  {
   "cell_type": "code",
   "execution_count": 114,
   "id": "57a10a8f",
   "metadata": {},
   "outputs": [
    {
     "name": "stdout",
     "output_type": "stream",
     "text": [
      "+---------------+---+------+-----------------+---------------+-------------------+-------------+----------+----------------+-----------+\n",
      "|           Name|Age|Gender|ProjectsCompleted|Productivity(%)|SatisfactionRate(%)|FeedbackScore|Department|        Position|JoiningDate|\n",
      "+---------------+---+------+-----------------+---------------+-------------------+-------------+----------+----------------+-----------+\n",
      "|Kimberly Cooper| 27|Female|                9|             26|                 13|          1.3|   Finance|Junior Developer|     21-Jan|\n",
      "|Heather Mueller| 45|Female|               11|              0|                 52|          2.8|   Finance|Senior Developer|      8-Jan|\n",
      "|  Susan Johnson| 35|  Male|               17|             26|                 81|          3.9|   Finance|         Manager|     11-Jan|\n",
      "| Stephen Watson| 33|  Male|               17|             84|                 69|         null|     Sales|Senior Developer|      7-Jan|\n",
      "|   Amanda Brown| 26|Female|                7|             86|                 51|          4.2|        IT|Junior Developer|     18-Jan|\n",
      "| Michelle Perez| 29|  Male|                5|             93|                 94|          4.9| Marketing|Junior Developer|     18-Jan|\n",
      "|    Carlos Bush| 42|Female|               23|             77|                 80|          2.8|     Sales|         Manager|      1-Jan|\n",
      "|      Vicki Kim| 44|Female|               11|             29|                 17|         null|        IT|Senior Developer|     14-Jan|\n",
      "+---------------+---+------+-----------------+---------------+-------------------+-------------+----------+----------------+-----------+\n",
      "\n"
     ]
    }
   ],
   "source": [
    "df1 = spark.read.csv('hr_org-Copy1.csv', header=True, inferSchema=True)\n",
    "\n",
    "df1.show()"
   ]
  },
  {
   "cell_type": "code",
   "execution_count": 116,
   "id": "a697c314",
   "metadata": {},
   "outputs": [
    {
     "name": "stdout",
     "output_type": "stream",
     "text": [
      "+-------+------------+-----------------+------+-----------------+-----------------+-------------------+------------------+----------+----------------+-----------+\n",
      "|summary|        Name|              Age|Gender|ProjectsCompleted|  Productivity(%)|SatisfactionRate(%)|     FeedbackScore|Department|        Position|JoiningDate|\n",
      "+-------+------------+-----------------+------+-----------------+-----------------+-------------------+------------------+----------+----------------+-----------+\n",
      "|  count|           8|                8|     8|                8|                8|                  8|                 6|         8|               8|          8|\n",
      "|   mean|        null|           35.125|  null|             12.5|           52.625|             57.125| 3.316666666666667|      null|            null|       null|\n",
      "| stddev|        null|7.698562017861333|  null|6.023762469230862|35.99181454561182|  29.79663212033007|1.2828354012369114|      null|            null|       null|\n",
      "|    min|Amanda Brown|               26|Female|                5|                0|                 13|               1.3|   Finance|Junior Developer|      1-Jan|\n",
      "|    max|   Vicki Kim|               45|  Male|               23|               93|                 94|               4.9|     Sales|Senior Developer|      8-Jan|\n",
      "+-------+------------+-----------------+------+-----------------+-----------------+-------------------+------------------+----------+----------------+-----------+\n",
      "\n"
     ]
    }
   ],
   "source": [
    "df1.describe().show()"
   ]
  },
  {
   "cell_type": "code",
   "execution_count": 117,
   "id": "79adf5ec",
   "metadata": {},
   "outputs": [
    {
     "name": "stdout",
     "output_type": "stream",
     "text": [
      "+---------------+---+------+-----------------+---------------+-------------------+-------------+----------+----------------+-----------+\n",
      "|           Name|Age|Gender|ProjectsCompleted|Productivity(%)|SatisfactionRate(%)|FeedbackScore|Department|        Position|JoiningDate|\n",
      "+---------------+---+------+-----------------+---------------+-------------------+-------------+----------+----------------+-----------+\n",
      "|Kimberly Cooper| 27|Female|                9|             26|                 13|          1.3|   Finance|Junior Developer|     21-Jan|\n",
      "|Heather Mueller| 45|Female|               11|              0|                 52|          2.8|   Finance|Senior Developer|      8-Jan|\n",
      "|  Susan Johnson| 35|  Male|               17|             26|                 81|          3.9|   Finance|         Manager|     11-Jan|\n",
      "|   Amanda Brown| 26|Female|                7|             86|                 51|          4.2|        IT|Junior Developer|     18-Jan|\n",
      "| Michelle Perez| 29|  Male|                5|             93|                 94|          4.9| Marketing|Junior Developer|     18-Jan|\n",
      "|    Carlos Bush| 42|Female|               23|             77|                 80|          2.8|     Sales|         Manager|      1-Jan|\n",
      "+---------------+---+------+-----------------+---------------+-------------------+-------------+----------+----------------+-----------+\n",
      "\n"
     ]
    }
   ],
   "source": [
    "df1.na.drop().show()"
   ]
  },
  {
   "cell_type": "code",
   "execution_count": 118,
   "id": "1eaea28c",
   "metadata": {},
   "outputs": [
    {
     "data": {
      "text/plain": [
       "[Row(avg(FeedbackScore)=3.316666666666667)]"
      ]
     },
     "execution_count": 118,
     "metadata": {},
     "output_type": "execute_result"
    }
   ],
   "source": [
    "from pyspark.sql.functions import mean\n",
    "\n",
    "mean_FeedbackScore = df1.select(mean(df1['FeedbackScore'])).collect()\n",
    "mean_FeedbackScore"
   ]
  },
  {
   "cell_type": "code",
   "execution_count": 119,
   "id": "e42ac7bc",
   "metadata": {},
   "outputs": [
    {
     "data": {
      "text/plain": [
       "Row(avg(FeedbackScore)=3.316666666666667)"
      ]
     },
     "execution_count": 119,
     "metadata": {},
     "output_type": "execute_result"
    }
   ],
   "source": [
    "mean_FeedbackScore[0]"
   ]
  },
  {
   "cell_type": "code",
   "execution_count": 120,
   "id": "653ec607",
   "metadata": {},
   "outputs": [],
   "source": [
    "mean_FeedbackScore[0][0]\n",
    "mean_FeedbackScore_val = mean_FeedbackScore[0][0]"
   ]
  },
  {
   "cell_type": "code",
   "execution_count": 121,
   "id": "2f635805",
   "metadata": {},
   "outputs": [
    {
     "name": "stdout",
     "output_type": "stream",
     "text": [
      "+---------------+---+------+-----------------+---------------+-------------------+-----------------+----------+----------------+-----------+\n",
      "|           Name|Age|Gender|ProjectsCompleted|Productivity(%)|SatisfactionRate(%)|    FeedbackScore|Department|        Position|JoiningDate|\n",
      "+---------------+---+------+-----------------+---------------+-------------------+-----------------+----------+----------------+-----------+\n",
      "|Kimberly Cooper| 27|Female|                9|             26|                 13|              1.3|   Finance|Junior Developer|     21-Jan|\n",
      "|Heather Mueller| 45|Female|               11|              0|                 52|              2.8|   Finance|Senior Developer|      8-Jan|\n",
      "|  Susan Johnson| 35|  Male|               17|             26|                 81|              3.9|   Finance|         Manager|     11-Jan|\n",
      "| Stephen Watson| 33|  Male|               17|             84|                 69|3.316666666666667|     Sales|Senior Developer|      7-Jan|\n",
      "|   Amanda Brown| 26|Female|                7|             86|                 51|              4.2|        IT|Junior Developer|     18-Jan|\n",
      "| Michelle Perez| 29|  Male|                5|             93|                 94|              4.9| Marketing|Junior Developer|     18-Jan|\n",
      "|    Carlos Bush| 42|Female|               23|             77|                 80|              2.8|     Sales|         Manager|      1-Jan|\n",
      "|      Vicki Kim| 44|Female|               11|             29|                 17|3.316666666666667|        IT|Senior Developer|     14-Jan|\n",
      "+---------------+---+------+-----------------+---------------+-------------------+-----------------+----------+----------------+-----------+\n",
      "\n"
     ]
    }
   ],
   "source": [
    "df1.na.fill(mean_FeedbackScore_val, subset=['FeedbackScore']).show()"
   ]
  },
  {
   "cell_type": "code",
   "execution_count": 122,
   "id": "d5d1d409",
   "metadata": {},
   "outputs": [
    {
     "data": {
      "text/plain": [
       "[Row(avg(FeedbackScore)=3.316666666666667)]"
      ]
     },
     "execution_count": 122,
     "metadata": {},
     "output_type": "execute_result"
    }
   ],
   "source": [
    "mean_FeedbackScore"
   ]
  },
  {
   "cell_type": "markdown",
   "id": "b3a9d112",
   "metadata": {},
   "source": [
    "# Linear Regression"
   ]
  },
  {
   "cell_type": "code",
   "execution_count": 56,
   "id": "31da27ef",
   "metadata": {},
   "outputs": [],
   "source": [
    "from pyspark.ml.regression import LinearRegression"
   ]
  },
  {
   "cell_type": "code",
   "execution_count": 69,
   "id": "2cb6c521",
   "metadata": {},
   "outputs": [],
   "source": [
    "data = spark.read.csv(\"hr_org_all.csv\",inferSchema=True,header=True)"
   ]
  },
  {
   "cell_type": "code",
   "execution_count": 70,
   "id": "0e410be1",
   "metadata": {},
   "outputs": [
    {
     "name": "stdout",
     "output_type": "stream",
     "text": [
      "root\n",
      " |-- Name: string (nullable = true)\n",
      " |-- Age: integer (nullable = true)\n",
      " |-- Gender: string (nullable = true)\n",
      " |-- ProjectsCompleted: integer (nullable = true)\n",
      " |-- Productivity(%): integer (nullable = true)\n",
      " |-- SatisfactionRate(%): integer (nullable = true)\n",
      " |-- FeedbackScore: double (nullable = true)\n",
      " |-- Department: string (nullable = true)\n",
      " |-- Position: string (nullable = true)\n",
      " |-- JoiningDate: string (nullable = true)\n",
      " |-- Salary: integer (nullable = true)\n",
      "\n"
     ]
    }
   ],
   "source": [
    "data.printSchema()"
   ]
  },
  {
   "cell_type": "code",
   "execution_count": 71,
   "id": "6a512212",
   "metadata": {},
   "outputs": [
    {
     "data": {
      "text/plain": [
       "Row(Name='Douglas Lindsey', Age=25, Gender='Male', ProjectsCompleted=11, Productivity(%)=57, SatisfactionRate(%)=25, FeedbackScore=4.7, Department='Marketing', Position='Analyst', JoiningDate='Jan-20', Salary=63596)"
      ]
     },
     "execution_count": 71,
     "metadata": {},
     "output_type": "execute_result"
    }
   ],
   "source": [
    "data.head()"
   ]
  },
  {
   "cell_type": "code",
   "execution_count": 72,
   "id": "49917c8f",
   "metadata": {},
   "outputs": [
    {
     "name": "stdout",
     "output_type": "stream",
     "text": [
      "Douglas Lindsey\n",
      "25\n",
      "Male\n",
      "11\n",
      "57\n",
      "25\n",
      "4.7\n",
      "Marketing\n",
      "Analyst\n",
      "Jan-20\n",
      "63596\n"
     ]
    }
   ],
   "source": [
    "for item in data.head():\n",
    "    print(item)"
   ]
  },
  {
   "cell_type": "code",
   "execution_count": 73,
   "id": "9fb1fcf7",
   "metadata": {},
   "outputs": [],
   "source": [
    "from pyspark.ml.linalg import Vectors\n",
    "from pyspark.ml.feature import VectorAssembler"
   ]
  },
  {
   "cell_type": "code",
   "execution_count": 74,
   "id": "237976ba",
   "metadata": {},
   "outputs": [],
   "source": [
    "assembler = VectorAssembler(\n",
    "    inputCols=[\"Age\", \"ProjectsCompleted\", \n",
    "               \"Productivity(%)\",\"SatisfactionRate(%)\",\n",
    "               \"FeedbackScore\",\"Salary\"],\n",
    "    outputCol=\"features\")"
   ]
  },
  {
   "cell_type": "code",
   "execution_count": 75,
   "id": "b48ea388",
   "metadata": {},
   "outputs": [],
   "source": [
    "output = assembler.transform(data)"
   ]
  },
  {
   "cell_type": "code",
   "execution_count": 76,
   "id": "cfdad68d",
   "metadata": {},
   "outputs": [
    {
     "name": "stdout",
     "output_type": "stream",
     "text": [
      "root\n",
      " |-- Name: string (nullable = true)\n",
      " |-- Age: integer (nullable = true)\n",
      " |-- Gender: string (nullable = true)\n",
      " |-- ProjectsCompleted: integer (nullable = true)\n",
      " |-- Productivity(%): integer (nullable = true)\n",
      " |-- SatisfactionRate(%): integer (nullable = true)\n",
      " |-- FeedbackScore: double (nullable = true)\n",
      " |-- Department: string (nullable = true)\n",
      " |-- Position: string (nullable = true)\n",
      " |-- JoiningDate: string (nullable = true)\n",
      " |-- Salary: integer (nullable = true)\n",
      " |-- features: vector (nullable = true)\n",
      "\n"
     ]
    }
   ],
   "source": [
    "output.printSchema()"
   ]
  },
  {
   "cell_type": "code",
   "execution_count": 77,
   "id": "f504f4c6",
   "metadata": {},
   "outputs": [
    {
     "data": {
      "text/plain": [
       "[Row(Name='Douglas Lindsey', Age=25, Gender='Male', ProjectsCompleted=11, Productivity(%)=57, SatisfactionRate(%)=25, FeedbackScore=4.7, Department='Marketing', Position='Analyst', JoiningDate='Jan-20', Salary=63596, features=DenseVector([25.0, 11.0, 57.0, 25.0, 4.7, 63596.0]))]"
      ]
     },
     "execution_count": 77,
     "metadata": {},
     "output_type": "execute_result"
    }
   ],
   "source": [
    "output.head(1)"
   ]
  },
  {
   "cell_type": "code",
   "execution_count": 78,
   "id": "f871df77",
   "metadata": {},
   "outputs": [
    {
     "name": "stdout",
     "output_type": "stream",
     "text": [
      "+--------------------+-----------------+\n",
      "|            features|ProjectsCompleted|\n",
      "+--------------------+-----------------+\n",
      "|[25.0,11.0,57.0,2...|               11|\n",
      "|[59.0,19.0,55.0,7...|               19|\n",
      "|[30.0,8.0,87.0,10...|                8|\n",
      "|[26.0,1.0,53.0,4....|                1|\n",
      "|[43.0,14.0,3.0,9....|               14|\n",
      "|[24.0,5.0,63.0,33...|                5|\n",
      "|[33.0,13.0,41.0,3...|               13|\n",
      "|[23.0,4.0,92.0,68...|                4|\n",
      "|[30.0,7.0,32.0,43...|                7|\n",
      "|[39.0,17.0,10.0,1...|               17|\n",
      "|[36.0,11.0,45.0,6...|               11|\n",
      "|[42.0,19.0,9.0,31...|               19|\n",
      "|[25.0,2.0,15.0,97...|                2|\n",
      "|[32.0,14.0,45.0,2...|               14|\n",
      "|[29.0,18.0,88.0,8...|               18|\n",
      "|[40.0,17.0,3.0,53...|               17|\n",
      "|[46.0,15.0,44.0,3...|               15|\n",
      "|[41.0,13.0,44.0,3...|               13|\n",
      "|[36.0,12.0,22.0,6...|               12|\n",
      "|[23.0,2.0,1.0,17....|                2|\n",
      "+--------------------+-----------------+\n",
      "only showing top 20 rows\n",
      "\n"
     ]
    }
   ],
   "source": [
    "final_data = output.select(\"features\",'ProjectsCompleted')\n",
    "final_data.show()"
   ]
  },
  {
   "cell_type": "code",
   "execution_count": 79,
   "id": "a2ccd98c",
   "metadata": {},
   "outputs": [],
   "source": [
    "train_data,test_data = final_data.randomSplit([0.7,0.3])"
   ]
  },
  {
   "cell_type": "code",
   "execution_count": 80,
   "id": "e144a3f6",
   "metadata": {},
   "outputs": [
    {
     "name": "stdout",
     "output_type": "stream",
     "text": [
      "+-------+------------------+\n",
      "|summary| ProjectsCompleted|\n",
      "+-------+------------------+\n",
      "|  count|               157|\n",
      "|   mean|11.388535031847134|\n",
      "| stddev| 6.272293247585032|\n",
      "|    min|                 0|\n",
      "|    max|                25|\n",
      "+-------+------------------+\n",
      "\n",
      "+-------+-----------------+\n",
      "|summary|ProjectsCompleted|\n",
      "+-------+-----------------+\n",
      "|  count|               43|\n",
      "|   mean|11.69767441860465|\n",
      "| stddev|6.957472460191992|\n",
      "|    min|                0|\n",
      "|    max|               24|\n",
      "+-------+-----------------+\n",
      "\n"
     ]
    }
   ],
   "source": [
    "train_data.describe().show()\n",
    "\n",
    "test_data.describe().show()"
   ]
  },
  {
   "cell_type": "code",
   "execution_count": 81,
   "id": "42754fda",
   "metadata": {},
   "outputs": [],
   "source": [
    "lr = LinearRegression(labelCol='ProjectsCompleted')"
   ]
  },
  {
   "cell_type": "code",
   "execution_count": 90,
   "id": "4eeb3490",
   "metadata": {},
   "outputs": [
    {
     "name": "stderr",
     "output_type": "stream",
     "text": [
      "23/10/17 13:14:09 WARN Instrumentation: [5acf83a3] regParam is zero, which might cause numerical instability and overfitting.\n"
     ]
    }
   ],
   "source": [
    "lrModel = lr.fit(train_data)"
   ]
  },
  {
   "cell_type": "code",
   "execution_count": 91,
   "id": "133875bf",
   "metadata": {},
   "outputs": [
    {
     "name": "stdout",
     "output_type": "stream",
     "text": [
      "Coefficients: [3.8803879638906866e-17,1.0000000000000002,-6.720404256324323e-18,-9.812070973557942e-19,-1.737382074966355e-16,-8.640792319157001e-20] Intercept: 3.0819273594066623e-15\n"
     ]
    }
   ],
   "source": [
    "print(\"Coefficients: {} Intercept: {}\".format(lrModel.coefficients,lrModel.intercept))"
   ]
  },
  {
   "cell_type": "code",
   "execution_count": 92,
   "id": "69f5617f",
   "metadata": {},
   "outputs": [],
   "source": [
    "test_results = lrModel.evaluate(test_data)"
   ]
  },
  {
   "cell_type": "code",
   "execution_count": 93,
   "id": "2a371641",
   "metadata": {},
   "outputs": [
    {
     "name": "stdout",
     "output_type": "stream",
     "text": [
      "+--------------------+\n",
      "|           residuals|\n",
      "+--------------------+\n",
      "|-5.14605218795082...|\n",
      "|-6.66133814775093...|\n",
      "|-8.88178419700125...|\n",
      "|-4.44089209850062...|\n",
      "|8.881784197001252...|\n",
      "|-1.77635683940025...|\n",
      "|-8.88178419700125...|\n",
      "|                 0.0|\n",
      "|                 0.0|\n",
      "|8.881784197001252...|\n",
      "|8.881784197001252...|\n",
      "|-1.77635683940025...|\n",
      "|-1.77635683940025...|\n",
      "|-1.77635683940025...|\n",
      "|                 0.0|\n",
      "|-3.55271367880050...|\n",
      "|8.881784197001252...|\n",
      "|                 0.0|\n",
      "|1.776356839400250...|\n",
      "|-1.77635683940025...|\n",
      "+--------------------+\n",
      "only showing top 20 rows\n",
      "\n",
      "RSME: 1.8512831881792615e-15\n"
     ]
    },
    {
     "name": "stderr",
     "output_type": "stream",
     "text": [
      "/home/ubuntu/spark-3.2.1-bin-hadoop2.7/python/pyspark/sql/context.py:125: FutureWarning: Deprecated in 3.0.0. Use SparkSession.builder.getOrCreate() instead.\n",
      "  warnings.warn(\n"
     ]
    }
   ],
   "source": [
    "test_results.residuals.show()\n",
    "\n",
    "print(\"RSME: {}\".format(test_results.rootMeanSquaredError))"
   ]
  },
  {
   "cell_type": "code",
   "execution_count": 94,
   "id": "7f933136",
   "metadata": {},
   "outputs": [
    {
     "name": "stdout",
     "output_type": "stream",
     "text": [
      "R2: 1.0\n"
     ]
    }
   ],
   "source": [
    "print(\"R2: {}\".format(test_results.r2))"
   ]
  },
  {
   "cell_type": "code",
   "execution_count": 95,
   "id": "04f6545e",
   "metadata": {},
   "outputs": [
    {
     "name": "stdout",
     "output_type": "stream",
     "text": [
      "+-------+-----------------+\n",
      "|summary|ProjectsCompleted|\n",
      "+-------+-----------------+\n",
      "|  count|              200|\n",
      "|   mean|           11.455|\n",
      "| stddev|6.408848703826821|\n",
      "|    min|                0|\n",
      "|    max|               25|\n",
      "+-------+-----------------+\n",
      "\n"
     ]
    }
   ],
   "source": [
    "final_data.describe().show()"
   ]
  },
  {
   "cell_type": "code",
   "execution_count": null,
   "id": "68511fd0",
   "metadata": {},
   "outputs": [],
   "source": []
  }
 ],
 "metadata": {
  "kernelspec": {
   "display_name": "Python 3 (ipykernel)",
   "language": "python",
   "name": "python3"
  },
  "language_info": {
   "codemirror_mode": {
    "name": "ipython",
    "version": 3
   },
   "file_extension": ".py",
   "mimetype": "text/x-python",
   "name": "python",
   "nbconvert_exporter": "python",
   "pygments_lexer": "ipython3",
   "version": "3.10.4"
  }
 },
 "nbformat": 4,
 "nbformat_minor": 5
}
